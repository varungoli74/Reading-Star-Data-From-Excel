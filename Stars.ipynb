{
 "cells": [
  {
   "cell_type": "code",
   "execution_count": 1,
   "id": "464095da-3f49-400f-81ff-d6fbc2bbb9e0",
   "metadata": {},
   "outputs": [
    {
     "name": "stdin",
     "output_type": "stream",
     "text": [
      "Enter the star name: ne1\n"
     ]
    },
    {
     "name": "stdout",
     "output_type": "stream",
     "text": [
      "Star NE1 is 4.31 ly from the Earth. It weighs 1.4m and is 5b years old.\n"
     ]
    }
   ],
   "source": [
    "import pandas as pd\n",
    "\n",
    "df = pd.read_excel('Stars.xlsx')\n",
    "\n",
    "a = df.to_string(index=False)\n",
    "\n",
    "user_input = input(\"Enter the star name:\")\n",
    "\n",
    "df[df['Star Name'].str.strip().str.match('searchstring'.strip(),case=False)]\n",
    "\n",
    "try:\n",
    "    value = df.index[df['Star Name']== user_input.upper()].tolist()[0]\n",
    "    print(\"Star\",df['Star Name'][value] + \" is\",df['Distance'][value] + \" from the Earth. It weighs\",df['Size'][value] + \" and is\",df['Age'][value] + \" years old.\")\n",
    "except IndexError:\n",
    "    print('Star not found')"
   ]
  }
 ],
 "metadata": {
  "kernelspec": {
   "display_name": "Python 3 (ipykernel)",
   "language": "python",
   "name": "python3"
  },
  "language_info": {
   "codemirror_mode": {
    "name": "ipython",
    "version": 3
   },
   "file_extension": ".py",
   "mimetype": "text/x-python",
   "name": "python",
   "nbconvert_exporter": "python",
   "pygments_lexer": "ipython3",
   "version": "3.10.9"
  }
 },
 "nbformat": 4,
 "nbformat_minor": 5
}
